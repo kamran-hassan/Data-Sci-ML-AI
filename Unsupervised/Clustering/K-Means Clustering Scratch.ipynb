{
 "cells": [
  {
   "cell_type": "markdown",
   "id": "881eb752-8b52-4e43-a7a8-2c4c31d6fb7b",
   "metadata": {},
   "source": [
    "# K - Means Clustering From Scratch Implemementation by kamran Hassan "
   ]
  },
  {
   "cell_type": "code",
   "execution_count": 1,
   "id": "6d08f12c-0caa-4dd0-9a52-3200d753c89d",
   "metadata": {},
   "outputs": [],
   "source": [
    "import matplotlib.pyplot as plt\n",
    "import numpy as np"
   ]
  },
  {
   "cell_type": "code",
   "execution_count": 2,
   "id": "d63cb858-ef85-4bb6-a805-66b9705d25bc",
   "metadata": {},
   "outputs": [
    {
     "data": {
      "image/png": "[encoded data removed]",
      "text/plain": [
       "<Figure size 432x288 with 1 Axes>"
      ]
     },
     "metadata": {
      "needs_background": "light"
     },
     "output_type": "display_data"
    }
   ],
   "source": [
    "# Creating Raw data \n",
    "UnclassifiedX = np.array([5,8,6,4,8,5,7,15,14,16,14,15,17,18,25,26,24,28,27,29,27])\n",
    "UnclassifiedY = np.array([5,9,5,8,6,4,9,16,12,15,15,16,14,16,27,28,27,25,24,25,24])\n",
    "\n",
    "plt.scatter(UnclassifiedX, UnclassifiedY);"
   ]
  },
  {
   "cell_type": "markdown",
   "id": "7991d821-03bf-4355-bedc-6593f6e55efd",
   "metadata": {},
   "source": [
    "## Lets get 3 random point for 3 - Means Clustering "
   ]
  },
  {
   "cell_type": "code",
   "execution_count": 3,
   "id": "446a74df-94b2-4436-b084-c4ac97d6658e",
   "metadata": {},
   "outputs": [
    {
     "name": "stdout",
     "output_type": "stream",
     "text": [
      "18\n",
      "11\n",
      "1\n"
     ]
    }
   ],
   "source": [
    "i = np.random.randint(len(UnclassifiedX))\n",
    "print(i)\n",
    "clustCenterk1x = UnclassifiedX[i]\n",
    "clustCenterk1y = UnclassifiedY[i]\n",
    "i = np.random.randint(len(UnclassifiedX))\n",
    "print(i)\n",
    "clustCenterk2x = UnclassifiedX[i]\n",
    "clustCenterk2y = UnclassifiedY[i]\n",
    "i = np.random.randint(len(UnclassifiedX))\n",
    "print(i)\n",
    "clustCenterk3x = UnclassifiedX[i]\n",
    "clustCenterk3y = UnclassifiedY[i]"
   ]
  },
  {
   "cell_type": "code",
   "execution_count": 4,
   "id": "134106ef-ceee-490f-9c6a-69904905cd09",
   "metadata": {},
   "outputs": [
    {
     "data": {
      "text/plain": [
       "<matplotlib.collections.PathCollection at 0x1da4845c550>"
      ]
     },
     "execution_count": 4,
     "metadata": {},
     "output_type": "execute_result"
    },
    {
     "data": {
      "image/png": "[encoded data removed]",
      "text/plain": [
       "<Figure size 432x288 with 1 Axes>"
      ]
     },
     "metadata": {
      "needs_background": "light"
     },
     "output_type": "display_data"
    }
   ],
   "source": [
    "plt.scatter([clustCenterk1x, clustCenterk2x, clustCenterk3x], [clustCenterk1y, clustCenterk2y, clustCenterk1x])"
   ]
  },
  {
   "cell_type": "markdown",
   "id": "fafe063a-22b1-4462-8fa2-7651a0ddc9e3",
   "metadata": {},
   "source": [
    "## Now Categorizing three points "
   ]
  },
  {
   "cell_type": "code",
   "execution_count": 5,
   "id": "ffaddadd-ca6a-4c9d-87e6-1973c8e7b680",
   "metadata": {},
   "outputs": [],
   "source": [
    "datapoints = [(UnclassifiedX[i],UnclassifiedY[i]) for i in range(len(UnclassifiedX))]"
   ]
  },
  {
   "cell_type": "code",
   "execution_count": 6,
   "id": "765823c9-c722-4e98-a11f-8d319515bbc7",
   "metadata": {},
   "outputs": [],
   "source": [
    "clustcenterpoints = [(clustCenterk1x,clustCenterk1y),(clustCenterk2x,clustCenterk2y),(clustCenterk3x,clustCenterk3y)]"
   ]
  },
  {
   "cell_type": "code",
   "execution_count": 7,
   "id": "8820829d-5ee0-4c80-b0e3-df4f6c9a7e79",
   "metadata": {},
   "outputs": [
    {
     "data": {
      "text/plain": [
       "[(5, 5),\n",
       " (8, 9),\n",
       " (6, 5),\n",
       " (4, 8),\n",
       " (8, 6),\n",
       " (5, 4),\n",
       " (7, 9),\n",
       " (15, 16),\n",
       " (14, 12),\n",
       " (16, 15),\n",
       " (14, 15),\n",
       " (15, 16),\n",
       " (17, 14),\n",
       " (18, 16),\n",
       " (25, 27),\n",
       " (26, 28),\n",
       " (24, 27),\n",
       " (28, 25),\n",
       " (27, 24),\n",
       " (29, 25),\n",
       " (27, 24)]"
      ]
     },
     "execution_count": 7,
     "metadata": {},
     "output_type": "execute_result"
    }
   ],
   "source": [
    "datapoints"
   ]
  },
  {
   "cell_type": "code",
   "execution_count": 8,
   "id": "e5b66958-d942-4190-b87f-90f86ef4f399",
   "metadata": {},
   "outputs": [
    {
     "data": {
      "text/plain": [
       "[(27, 24), (15, 16), (8, 9)]"
      ]
     },
     "execution_count": 8,
     "metadata": {},
     "output_type": "execute_result"
    }
   ],
   "source": [
    "clustcenterpoints"
   ]
  },
  {
   "cell_type": "code",
   "execution_count": 9,
   "id": "2c14c32f-4e95-4e8e-bee9-059d5fa91ca8",
   "metadata": {},
   "outputs": [
    {
     "data": {
      "text/plain": [
       "21"
      ]
     },
     "execution_count": 9,
     "metadata": {},
     "output_type": "execute_result"
    }
   ],
   "source": [
    "len(datapoints)"
   ]
  },
  {
   "cell_type": "markdown",
   "id": "c51e770c-db39-4669-801e-6769926ba674",
   "metadata": {},
   "source": [
    "### 1st iteration"
   ]
  },
  {
   "cell_type": "code",
   "execution_count": 10,
   "id": "021ccfac-2178-4ed2-a032-cf77ef346ad2",
   "metadata": {},
   "outputs": [],
   "source": [
    "clust1x = np.array([])\n",
    "clust1y = np.array([])\n",
    "\n",
    "clust2x = np.array([])\n",
    "clust2y = np.array([])\n",
    "\n",
    "clust3x = np.array([])\n",
    "clust3y = np.array([])"
   ]
  },
  {
   "cell_type": "code",
   "execution_count": 11,
   "id": "afd207ac-f292-4de8-9169-8c2dc4805ee9",
   "metadata": {},
   "outputs": [],
   "source": [
    "for d in datapoints:\n",
    "    d1 = (((clustCenterk1x - d[0])**2) + ((clustCenterk1y - d[1])**2))**0.5\n",
    "    d2 = (((clustCenterk2x - d[0])**2) + ((clustCenterk2y - d[1])**2))**0.5\n",
    "    d3 = (((clustCenterk3x - d[0])**2) + ((clustCenterk3y - d[1])**2))**0.5\n",
    "    #print((d1,d2,d3, d[0]))\n",
    "    if(d1 < d2 and d1 < d3): # add to cluster 1\n",
    "        clust1x = np.append(clust1x, d[0])\n",
    "        clust1y = np.append(clust1y, d[1])\n",
    "    if(d2 < d1 and d2 < d3): # add to cluster 2\n",
    "        clust2x = np.append(clust2x, d[0])\n",
    "        clust2y = np.append(clust2y, d[1])\n",
    "    if(d3 < d1 and d3 < d2): # add to cluster 3\n",
    "        clust3x = np.append(clust3x, d[0])\n",
    "        clust3y = np.append(clust3y, d[1])"
   ]
  },
  {
   "cell_type": "code",
   "execution_count": 12,
   "id": "b7e27a86-91a9-4a33-a854-5facd98a86ff",
   "metadata": {},
   "outputs": [
    {
     "data": {
      "text/plain": [
       "(array([25., 26., 24., 28., 27., 29., 27.]), 7)"
      ]
     },
     "execution_count": 12,
     "metadata": {},
     "output_type": "execute_result"
    }
   ],
   "source": [
    "clust1x, len(clust1x)"
   ]
  },
  {
   "cell_type": "code",
   "execution_count": 13,
   "id": "5fb38a0e-913f-4d40-9ac3-84cf3c5fb9a1",
   "metadata": {},
   "outputs": [
    {
     "data": {
      "text/plain": [
       "(array([15., 14., 16., 14., 15., 17., 18.]), 7)"
      ]
     },
     "execution_count": 13,
     "metadata": {},
     "output_type": "execute_result"
    }
   ],
   "source": [
    "clust2x, len(clust2x)"
   ]
  },
  {
   "cell_type": "code",
   "execution_count": 14,
   "id": "ea6330d4-c89a-4f32-81b2-0e3f22a3fb8a",
   "metadata": {},
   "outputs": [
    {
     "data": {
      "text/plain": [
       "(array([5., 8., 6., 4., 8., 5., 7.]), 7)"
      ]
     },
     "execution_count": 14,
     "metadata": {},
     "output_type": "execute_result"
    }
   ],
   "source": [
    "clust3x, len(clust3x)"
   ]
  },
  {
   "cell_type": "code",
   "execution_count": 15,
   "id": "1998b44a-c32e-4f34-a7ad-fb0a8229b343",
   "metadata": {},
   "outputs": [
    {
     "data": {
      "image/png": "[encoded data removed]",
      "text/plain": [
       "<Figure size 432x288 with 1 Axes>"
      ]
     },
     "metadata": {
      "needs_background": "light"
     },
     "output_type": "display_data"
    }
   ],
   "source": [
    "plt.scatter(clust1x,clust1y)\n",
    "plt.scatter(clustCenterk1x, clustCenterk1y)\n",
    "plt.scatter(clust2x,clust2y)\n",
    "plt.scatter(clustCenterk2x, clustCenterk2y)\n",
    "plt.scatter(clust3x,clust3y)\n",
    "plt.scatter(clustCenterk3x, clustCenterk3y)\n",
    "plt.show()"
   ]
  },
  {
   "cell_type": "code",
   "execution_count": 16,
   "id": "d52c45aa-30fd-45f6-a35f-6755598531a1",
   "metadata": {},
   "outputs": [],
   "source": [
    "ssehistory =  []"
   ]
  },
  {
   "cell_type": "code",
   "execution_count": 17,
   "id": "34c6faa3-e5f2-4947-a921-82e32446067b",
   "metadata": {},
   "outputs": [
    {
     "name": "stdout",
     "output_type": "stream",
     "text": [
      "current SSE = 3805.0\n"
     ]
    }
   ],
   "source": [
    "sse = 0\n",
    "# for fisrt cluster \n",
    "clust1point = [(clust1x[i], clust1y[i]) for i in range(len(clust1x))]\n",
    "\n",
    "for x in clust1point:\n",
    "    sse += ( (clustCenterk1x - x[0])**2 + (clustCenterk1y - x[1])**2 )**2\n",
    "    \n",
    "clust2point = [(clust2x[i], clust2y[i]) for i in range(len(clust2x))]\n",
    "\n",
    "for y in clust2point:\n",
    "    sse += ( (clustCenterk2x - y[0])**2 + (clustCenterk2y - y[1])**2 )**2\n",
    "    \n",
    "clust3point = [(clust3x[i], clust3y[i]) for i in range(len(clust3x))]\n",
    "\n",
    "for z in clust3point:\n",
    "    sse += ( (clustCenterk3x - z[0])**2 + (clustCenterk3y - z[1])**2)**2\n",
    "print(\"current SSE =\", sse)\n",
    "ssehistory.append(sse)"
   ]
  },
  {
   "cell_type": "code",
   "execution_count": 18,
   "id": "3d00367a-8457-47b7-ae3b-fd725a10cb82",
   "metadata": {},
   "outputs": [
    {
     "data": {
      "text/plain": [
       "[3805.0]"
      ]
     },
     "execution_count": 18,
     "metadata": {},
     "output_type": "execute_result"
    }
   ],
   "source": [
    "ssehistory"
   ]
  },
  {
   "cell_type": "code",
   "execution_count": 19,
   "id": "54c075dc-32f0-4b2a-8788-883013217a57",
   "metadata": {},
   "outputs": [
    {
     "name": "stdout",
     "output_type": "stream",
     "text": [
      "26.571428571428573 25.714285714285715\n",
      "15.571428571428571 14.857142857142858\n",
      "6.142857142857143 6.571428571428571\n"
     ]
    }
   ],
   "source": [
    "print(clust1x.sum() / len(clust1x),clust1y.sum() / len(clust1y))\n",
    "clustCenterk1x,clustCenterk1y = clust1x.sum() / len(clust1x),clust1y.sum() / len(clust1y) #  =updated the cluster centroid\n",
    "print(clust2x.sum() / len(clust2x),clust2y.sum() / len(clust2y))\n",
    "clustCenterk2x,clustCenterk2y = clust2x.sum() / len(clust2x),clust2y.sum() / len(clust2y)  # updated the clusters centeroid\n",
    "print(clust3x.sum() / len(clust3x), clust3y.sum() / len(clust3y))\n",
    "clustCenterk3x,clustCenterk3y = clust3x.sum() / len(clust3x), clust3y.sum() / len(clust3y) # updated the cluster centroid"
   ]
  },
  {
   "cell_type": "markdown",
   "id": "e5067e53-d8ce-4f80-bb0e-dcebc0c15e79",
   "metadata": {},
   "source": [
    "### 2nd iteration"
   ]
  },
  {
   "cell_type": "code",
   "execution_count": 20,
   "id": "e8f6d658-8da5-41be-8b27-8953c89030d3",
   "metadata": {},
   "outputs": [],
   "source": [
    "clust1x = np.array([])\n",
    "clust1y = np.array([])\n",
    "\n",
    "clust2x = np.array([])\n",
    "clust2y = np.array([])\n",
    "\n",
    "clust3x = np.array([])\n",
    "clust3y = np.array([])"
   ]
  },
  {
   "cell_type": "code",
   "execution_count": 21,
   "id": "69fb263f-0c8f-4b45-91e0-f051f7ce6c36",
   "metadata": {},
   "outputs": [],
   "source": [
    "for d in datapoints:\n",
    "    d1 = (((clustCenterk1x - d[0])**2) + ((clustCenterk1y - d[1])**2))**0.5\n",
    "    d2 = (((clustCenterk2x - d[0])**2) + ((clustCenterk2y - d[1])**2))**0.5\n",
    "    d3 = (((clustCenterk3x - d[0])**2) + ((clustCenterk3y - d[1])**2))**0.5\n",
    "    #print((d1,d2,d3, d[0]))\n",
    "    if(d1 < d2 and d1 < d3): # add to cluster 1\n",
    "        clust1x = np.append(clust1x, d[0])\n",
    "        clust1y = np.append(clust1y, d[1])\n",
    "    if(d2 < d1 and d2 < d3): # add to cluster 2\n",
    "        clust2x = np.append(clust2x, d[0])\n",
    "        clust2y = np.append(clust2y, d[1])\n",
    "    if(d3 < d1 and d3 < d2): # add to cluster 3\n",
    "        clust3x = np.append(clust3x, d[0])\n",
    "        clust3y = np.append(clust3y, d[1])"
   ]
  },
  {
   "cell_type": "code",
   "execution_count": 22,
   "id": "d23d04ce-5377-4e06-af62-f62ba335151a",
   "metadata": {},
   "outputs": [
    {
     "data": {
      "image/png": "[encoded data removed]",
      "text/plain": [
       "<Figure size 432x288 with 1 Axes>"
      ]
     },
     "metadata": {
      "needs_background": "light"
     },
     "output_type": "display_data"
    }
   ],
   "source": [
    "plt.scatter(clust1x,clust1y)\n",
    "plt.scatter(clustCenterk1x, clustCenterk1y)\n",
    "plt.scatter(clust2x,clust2y)\n",
    "plt.scatter(clustCenterk2x, clustCenterk2y)\n",
    "plt.scatter(clust3x,clust3y)\n",
    "plt.scatter(clustCenterk3x, clustCenterk3y)\n",
    "plt.show()"
   ]
  },
  {
   "cell_type": "code",
   "execution_count": 23,
   "id": "39a4b84d-3f30-4621-8e37-de52cfef06ae",
   "metadata": {},
   "outputs": [
    {
     "name": "stdout",
     "output_type": "stream",
     "text": [
      "current SSE = 640.1807580174928\n"
     ]
    }
   ],
   "source": [
    "sse = 0\n",
    "# for fisrt cluster \n",
    "clust1point = [(clust1x[i], clust1y[i]) for i in range(len(clust1x))]\n",
    "\n",
    "for x in clust1point:\n",
    "    sse += ( (clustCenterk1x - x[0])**2 + (clustCenterk1y - x[1])**2 )**2\n",
    "    \n",
    "clust2point = [(clust2x[i], clust2y[i]) for i in range(len(clust2x))]\n",
    "\n",
    "for y in clust2point:\n",
    "    sse += ( (clustCenterk2x - y[0])**2 + (clustCenterk2y - y[1])**2 )**2\n",
    "    \n",
    "clust3point = [(clust3x[i], clust3y[i]) for i in range(len(clust3x))]\n",
    "\n",
    "for z in clust3point:\n",
    "    sse += ( (clustCenterk3x - z[0])**2 + (clustCenterk3y - z[1])**2)**2\n",
    "print(\"current SSE =\", sse)\n",
    "ssehistory.append(sse)"
   ]
  },
  {
   "cell_type": "code",
   "execution_count": 24,
   "id": "87c51e55-fc5e-4f4a-aabf-d6db5130f258",
   "metadata": {},
   "outputs": [
    {
     "data": {
      "text/plain": [
       "[3805.0, 640.1807580174928]"
      ]
     },
     "execution_count": 24,
     "metadata": {},
     "output_type": "execute_result"
    }
   ],
   "source": [
    "ssehistory"
   ]
  },
  {
   "cell_type": "code",
   "execution_count": 25,
   "id": "9a15adb4-bee8-467d-9523-c3120b924451",
   "metadata": {},
   "outputs": [
    {
     "name": "stdout",
     "output_type": "stream",
     "text": [
      "26.571428571428573 25.714285714285715\n",
      "15.571428571428571 14.857142857142858\n",
      "6.142857142857143 6.571428571428571\n"
     ]
    }
   ],
   "source": [
    "print(clust1x.sum() / len(clust1x),clust1y.sum() / len(clust1y))\n",
    "clustCenterk1x,clustCenterk1y = clust1x.sum() / len(clust1x),clust1y.sum() / len(clust1y) #  =updated the cluster centroid\n",
    "print(clust2x.sum() / len(clust2x),clust2y.sum() / len(clust2y))\n",
    "clustCenterk2x,clustCenterk2y = clust2x.sum() / len(clust2x),clust2y.sum() / len(clust2y)  # updated the clusters centeroid\n",
    "print(clust3x.sum() / len(clust3x), clust3y.sum() / len(clust3y))\n",
    "clustCenterk3x,clustCenterk3y = clust3x.sum() / len(clust3x), clust3y.sum() / len(clust3y) # updated the cluster centroid"
   ]
  },
  {
   "cell_type": "markdown",
   "id": "eb4330b7-c238-4e3b-8bb1-d3f22d62a6aa",
   "metadata": {},
   "source": [
    "### 3rd iteration"
   ]
  },
  {
   "cell_type": "code",
   "execution_count": 26,
   "id": "1947de77-1451-4d3c-8e74-b71c323d457c",
   "metadata": {},
   "outputs": [],
   "source": [
    "clust1x = np.array([])\n",
    "clust1y = np.array([])\n",
    "\n",
    "clust2x = np.array([])\n",
    "clust2y = np.array([])\n",
    "\n",
    "clust3x = np.array([])\n",
    "clust3y = np.array([])"
   ]
  },
  {
   "cell_type": "code",
   "execution_count": 27,
   "id": "79f4d79b-6258-412e-b2ef-074ebbb2afe7",
   "metadata": {},
   "outputs": [],
   "source": [
    "for d in datapoints:\n",
    "    d1 = (((clustCenterk1x - d[0])**2) + ((clustCenterk1y - d[1])**2))**0.5\n",
    "    d2 = (((clustCenterk2x - d[0])**2) + ((clustCenterk2y - d[1])**2))**0.5\n",
    "    d3 = (((clustCenterk3x - d[0])**2) + ((clustCenterk3y - d[1])**2))**0.5\n",
    "    #print((d1,d2,d3, d[0]))\n",
    "    if(d1 < d2 and d1 < d3): # add to cluster 1\n",
    "        clust1x = np.append(clust1x, d[0])\n",
    "        clust1y = np.append(clust1y, d[1])\n",
    "    if(d2 < d1 and d2 < d3): # add to cluster 2\n",
    "        clust2x = np.append(clust2x, d[0])\n",
    "        clust2y = np.append(clust2y, d[1])\n",
    "    if(d3 < d1 and d3 < d2): # add to cluster 3\n",
    "        clust3x = np.append(clust3x, d[0])\n",
    "        clust3y = np.append(clust3y, d[1])"
   ]
  },
  {
   "cell_type": "code",
   "execution_count": 28,
   "id": "eaa21656-28dd-4e5a-a34d-6864994c9d2c",
   "metadata": {},
   "outputs": [
    {
     "data": {
      "image/png": "[encoded data removed]",
      "text/plain": [
       "<Figure size 432x288 with 1 Axes>"
      ]
     },
     "metadata": {
      "needs_background": "light"
     },
     "output_type": "display_data"
    }
   ],
   "source": [
    "plt.scatter(clust1x,clust1y)\n",
    "plt.scatter(clustCenterk1x, clustCenterk1y)\n",
    "plt.scatter(clust2x,clust2y)\n",
    "plt.scatter(clustCenterk2x, clustCenterk2y)\n",
    "plt.scatter(clust3x,clust3y)\n",
    "plt.scatter(clustCenterk3x, clustCenterk3y)\n",
    "plt.show()"
   ]
  },
  {
   "cell_type": "code",
   "execution_count": 29,
   "id": "059890c1-e207-4ccf-91fe-88701b5a74af",
   "metadata": {},
   "outputs": [
    {
     "name": "stdout",
     "output_type": "stream",
     "text": [
      "current SSE = 640.1807580174928\n"
     ]
    }
   ],
   "source": [
    "sse = 0\n",
    "# for fisrt cluster \n",
    "clust1point = [(clust1x[i], clust1y[i]) for i in range(len(clust1x))]\n",
    "\n",
    "for x in clust1point:\n",
    "    sse += ( (clustCenterk1x - x[0])**2 + (clustCenterk1y - x[1])**2 )**2\n",
    "    \n",
    "clust2point = [(clust2x[i], clust2y[i]) for i in range(len(clust2x))]\n",
    "\n",
    "for y in clust2point:\n",
    "    sse += ( (clustCenterk2x - y[0])**2 + (clustCenterk2y - y[1])**2 )**2\n",
    "    \n",
    "clust3point = [(clust3x[i], clust3y[i]) for i in range(len(clust3x))]\n",
    "\n",
    "for z in clust3point:\n",
    "    sse += ( (clustCenterk3x - z[0])**2 + (clustCenterk3y - z[1])**2)**2\n",
    "print(\"current SSE =\", sse)\n",
    "ssehistory.append(sse)"
   ]
  },
  {
   "cell_type": "code",
   "execution_count": 30,
   "id": "0786b4cd-2c8b-4daf-a581-1cf995a3920f",
   "metadata": {},
   "outputs": [
    {
     "data": {
      "text/plain": [
       "[3805.0, 640.1807580174928, 640.1807580174928]"
      ]
     },
     "execution_count": 30,
     "metadata": {},
     "output_type": "execute_result"
    }
   ],
   "source": [
    "ssehistory"
   ]
  },
  {
   "cell_type": "markdown",
   "id": "8c62ea1b-a8b4-4401-b25a-f885d0541266",
   "metadata": {},
   "source": [
    "### Reached the most optimized point of SSE, Terminating the iteration"
   ]
  },
  {
   "cell_type": "code",
   "execution_count": 31,
   "id": "121e4530-6215-4176-a741-6d7b82102284",
   "metadata": {},
   "outputs": [
    {
     "name": "stdout",
     "output_type": "stream",
     "text": [
      "26.571428571428573 25.714285714285715\n",
      "15.571428571428571 14.857142857142858\n",
      "6.142857142857143 6.571428571428571\n"
     ]
    }
   ],
   "source": [
    "print(clust1x.sum() / len(clust1x),clust1y.sum() / len(clust1y))\n",
    "clustCenterk1x,clustCenterk1y = clust1x.sum() / len(clust1x),clust1y.sum() / len(clust1y) #  =updated the cluster centroid\n",
    "print(clust2x.sum() / len(clust2x),clust2y.sum() / len(clust2y))\n",
    "clustCenterk2x,clustCenterk2y = clust2x.sum() / len(clust2x),clust2y.sum() / len(clust2y)  # updated the clusters centeroid\n",
    "print(clust3x.sum() / len(clust3x), clust3y.sum() / len(clust3y))\n",
    "clustCenterk3x,clustCenterk3y = clust3x.sum() / len(clust3x), clust3y.sum() / len(clust3y) # updated the cluster centroid"
   ]
  }
 ],
 "metadata": {
  "kernelspec": {
   "display_name": "Python 3 (ipykernel)",
   "language": "python",
   "name": "python3"
  },
  "language_info": {
   "codemirror_mode": {
    "name": "ipython",
    "version": 3
   },
   "file_extension": ".py",
   "mimetype": "text/x-python",
   "name": "python",
   "nbconvert_exporter": "python",
   "pygments_lexer": "ipython3",
   "version": "3.8.5"
  }
 },
 "nbformat": 4,
 "nbformat_minor": 5
}
