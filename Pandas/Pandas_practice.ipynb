{
  "nbformat": 4,
  "nbformat_minor": 0,
  "metadata": {
    "colab": {
      "name": "Pandas practice.ipynb",
      "provenance": [],
      "authorship_tag": "ABX9TyPY60Q17+8cIsCauEJu/fcs",
      "include_colab_link": true
    },
    "kernelspec": {
      "name": "python3",
      "display_name": "Python 3"
    },
    "language_info": {
      "name": "python"
    }
  },
  "cells": [
    {
      "cell_type": "markdown",
      "metadata": {
        "id": "view-in-github",
        "colab_type": "text"
      },
      "source": [
        "<a href=\"https://colab.research.google.com/github/kamran-hassan/Data-Sci-ML-AI/blob/main/Pandas/Pandas_practice.ipynb\" target=\"_parent\"><img src=\"https://colab.research.google.com/assets/colab-badge.svg\" alt=\"Open In Colab\"/></a>"
      ]
    },
    {
      "cell_type": "code",
      "metadata": {
        "id": "9apKUwWAYasN"
      },
      "source": [
        "import numpy as np\n",
        "import pandas as pd"
      ],
      "execution_count": 1,
      "outputs": []
    },
    {
      "cell_type": "code",
      "metadata": {
        "id": "36tbY6oaZK3y"
      },
      "source": [
        "my_lst =[[1,2,3,5,6,9],\n",
        "         [8,5,6,2,1,'r']]\n"
      ],
      "execution_count": 5,
      "outputs": []
    },
    {
      "cell_type": "code",
      "metadata": {
        "colab": {
          "base_uri": "https://localhost:8080/"
        },
        "id": "nvZ-sxQMZBRi",
        "outputId": "5c71c60d-e4f2-45af-f14d-558149b0cef4"
      },
      "source": [
        "pd.Series([1,2,3])"
      ],
      "execution_count": 3,
      "outputs": [
        {
          "output_type": "execute_result",
          "data": {
            "text/plain": [
              "0    1\n",
              "1    2\n",
              "2    3\n",
              "dtype: int64"
            ]
          },
          "metadata": {},
          "execution_count": 3
        }
      ]
    },
    {
      "cell_type": "code",
      "metadata": {
        "colab": {
          "base_uri": "https://localhost:8080/"
        },
        "id": "iCqHEUY6Zhw6",
        "outputId": "30fd9365-0840-4af4-c8ac-a314ed475fd2"
      },
      "source": [
        "pdlst = pd.Series(my_lst)\n",
        "print(pdlst)"
      ],
      "execution_count": 8,
      "outputs": [
        {
          "output_type": "stream",
          "name": "stdout",
          "text": [
            "0    [1, 2, 3, 5, 6, 9]\n",
            "1    [8, 5, 6, 2, 1, r]\n",
            "dtype: object\n"
          ]
        }
      ]
    },
    {
      "cell_type": "code",
      "metadata": {
        "colab": {
          "base_uri": "https://localhost:8080/"
        },
        "id": "bb9u4tlOZ2SQ",
        "outputId": "1be31a8c-1c41-4df2-c630-ef99269bc28b"
      },
      "source": [
        "index = ['a','b']\n",
        "\n",
        "pdlst2 = pd.Series(data= my_lst,index = index)\n",
        "\n",
        "print(pdlst2)"
      ],
      "execution_count": 12,
      "outputs": [
        {
          "output_type": "stream",
          "name": "stdout",
          "text": [
            "a    [1, 2, 3, 5, 6, 9]\n",
            "b    [8, 5, 6, 2, 1, r]\n",
            "dtype: object\n"
          ]
        }
      ]
    },
    {
      "cell_type": "code",
      "metadata": {
        "colab": {
          "base_uri": "https://localhost:8080/"
        },
        "id": "ytbUNYqWapyK",
        "outputId": "ac7faa23-f713-40d2-935c-1c10bb676396"
      },
      "source": [
        "pd.Series(np.random.rand(10))"
      ],
      "execution_count": 20,
      "outputs": [
        {
          "output_type": "execute_result",
          "data": {
            "text/plain": [
              "0    0.763394\n",
              "1    0.186823\n",
              "2    0.312379\n",
              "3    0.488535\n",
              "4    0.554435\n",
              "5    0.196396\n",
              "6    0.188862\n",
              "7    0.956526\n",
              "8    0.683768\n",
              "9    0.301673\n",
              "dtype: float64"
            ]
          },
          "metadata": {},
          "execution_count": 20
        }
      ]
    },
    {
      "cell_type": "markdown",
      "metadata": {
        "id": "nYfhbj27c7zT"
      },
      "source": [
        "## Dataframe"
      ]
    },
    {
      "cell_type": "code",
      "metadata": {
        "colab": {
          "base_uri": "https://localhost:8080/",
          "height": 204
        },
        "id": "2MhqBK0pc_sf",
        "outputId": "a547422b-bb5f-4c3f-b309-98b3a56a06b6"
      },
      "source": [
        "df = pd.DataFrame(np.random.rand(25).reshape(5,5),index = \"a b c d e\".split(\" \"),columns = \"i j k l m\".split(\" \"))\n",
        "df"
      ],
      "execution_count": 26,
      "outputs": [
        {
          "output_type": "execute_result",
          "data": {
            "text/html": [
              "<div>\n",
              "<style scoped>\n",
              "    .dataframe tbody tr th:only-of-type {\n",
              "        vertical-align: middle;\n",
              "    }\n",
              "\n",
              "    .dataframe tbody tr th {\n",
              "        vertical-align: top;\n",
              "    }\n",
              "\n",
              "    .dataframe thead th {\n",
              "        text-align: right;\n",
              "    }\n",
              "</style>\n",
              "<table border=\"1\" class=\"dataframe\">\n",
              "  <thead>\n",
              "    <tr style=\"text-align: right;\">\n",
              "      <th></th>\n",
              "      <th>i</th>\n",
              "      <th>j</th>\n",
              "      <th>k</th>\n",
              "      <th>l</th>\n",
              "      <th>m</th>\n",
              "    </tr>\n",
              "  </thead>\n",
              "  <tbody>\n",
              "    <tr>\n",
              "      <th>a</th>\n",
              "      <td>0.336238</td>\n",
              "      <td>0.386659</td>\n",
              "      <td>0.725836</td>\n",
              "      <td>0.510751</td>\n",
              "      <td>0.114366</td>\n",
              "    </tr>\n",
              "    <tr>\n",
              "      <th>b</th>\n",
              "      <td>0.307619</td>\n",
              "      <td>0.096132</td>\n",
              "      <td>0.466845</td>\n",
              "      <td>0.085010</td>\n",
              "      <td>0.939595</td>\n",
              "    </tr>\n",
              "    <tr>\n",
              "      <th>c</th>\n",
              "      <td>0.646807</td>\n",
              "      <td>0.403084</td>\n",
              "      <td>0.315358</td>\n",
              "      <td>0.675221</td>\n",
              "      <td>0.119020</td>\n",
              "    </tr>\n",
              "    <tr>\n",
              "      <th>d</th>\n",
              "      <td>0.074476</td>\n",
              "      <td>0.599161</td>\n",
              "      <td>0.127011</td>\n",
              "      <td>0.724223</td>\n",
              "      <td>0.908829</td>\n",
              "    </tr>\n",
              "    <tr>\n",
              "      <th>e</th>\n",
              "      <td>0.001003</td>\n",
              "      <td>0.048492</td>\n",
              "      <td>0.860319</td>\n",
              "      <td>0.220345</td>\n",
              "      <td>0.849718</td>\n",
              "    </tr>\n",
              "  </tbody>\n",
              "</table>\n",
              "</div>"
            ],
            "text/plain": [
              "          i         j         k         l         m\n",
              "a  0.336238  0.386659  0.725836  0.510751  0.114366\n",
              "b  0.307619  0.096132  0.466845  0.085010  0.939595\n",
              "c  0.646807  0.403084  0.315358  0.675221  0.119020\n",
              "d  0.074476  0.599161  0.127011  0.724223  0.908829\n",
              "e  0.001003  0.048492  0.860319  0.220345  0.849718"
            ]
          },
          "metadata": {},
          "execution_count": 26
        }
      ]
    },
    {
      "cell_type": "code",
      "metadata": {
        "colab": {
          "base_uri": "https://localhost:8080/",
          "height": 204
        },
        "id": "EDk2hc2wezmg",
        "outputId": "e1418b8c-ba88-4249-f099-e1c130e05d5e"
      },
      "source": [
        "df['adding'] = df['i'] + df['j']\n",
        "df"
      ],
      "execution_count": 35,
      "outputs": [
        {
          "output_type": "execute_result",
          "data": {
            "text/html": [
              "<div>\n",
              "<style scoped>\n",
              "    .dataframe tbody tr th:only-of-type {\n",
              "        vertical-align: middle;\n",
              "    }\n",
              "\n",
              "    .dataframe tbody tr th {\n",
              "        vertical-align: top;\n",
              "    }\n",
              "\n",
              "    .dataframe thead th {\n",
              "        text-align: right;\n",
              "    }\n",
              "</style>\n",
              "<table border=\"1\" class=\"dataframe\">\n",
              "  <thead>\n",
              "    <tr style=\"text-align: right;\">\n",
              "      <th></th>\n",
              "      <th>i</th>\n",
              "      <th>j</th>\n",
              "      <th>k</th>\n",
              "      <th>l</th>\n",
              "      <th>m</th>\n",
              "      <th>adding</th>\n",
              "    </tr>\n",
              "  </thead>\n",
              "  <tbody>\n",
              "    <tr>\n",
              "      <th>a</th>\n",
              "      <td>0.336238</td>\n",
              "      <td>0.386659</td>\n",
              "      <td>0.725836</td>\n",
              "      <td>0.510751</td>\n",
              "      <td>0.114366</td>\n",
              "      <td>0.722898</td>\n",
              "    </tr>\n",
              "    <tr>\n",
              "      <th>b</th>\n",
              "      <td>0.307619</td>\n",
              "      <td>0.096132</td>\n",
              "      <td>0.466845</td>\n",
              "      <td>0.085010</td>\n",
              "      <td>0.939595</td>\n",
              "      <td>0.403752</td>\n",
              "    </tr>\n",
              "    <tr>\n",
              "      <th>c</th>\n",
              "      <td>0.646807</td>\n",
              "      <td>0.403084</td>\n",
              "      <td>0.315358</td>\n",
              "      <td>0.675221</td>\n",
              "      <td>0.119020</td>\n",
              "      <td>1.049891</td>\n",
              "    </tr>\n",
              "    <tr>\n",
              "      <th>d</th>\n",
              "      <td>0.074476</td>\n",
              "      <td>0.599161</td>\n",
              "      <td>0.127011</td>\n",
              "      <td>0.724223</td>\n",
              "      <td>0.908829</td>\n",
              "      <td>0.673636</td>\n",
              "    </tr>\n",
              "    <tr>\n",
              "      <th>e</th>\n",
              "      <td>0.001003</td>\n",
              "      <td>0.048492</td>\n",
              "      <td>0.860319</td>\n",
              "      <td>0.220345</td>\n",
              "      <td>0.849718</td>\n",
              "      <td>0.049495</td>\n",
              "    </tr>\n",
              "  </tbody>\n",
              "</table>\n",
              "</div>"
            ],
            "text/plain": [
              "          i         j         k         l         m    adding\n",
              "a  0.336238  0.386659  0.725836  0.510751  0.114366  0.722898\n",
              "b  0.307619  0.096132  0.466845  0.085010  0.939595  0.403752\n",
              "c  0.646807  0.403084  0.315358  0.675221  0.119020  1.049891\n",
              "d  0.074476  0.599161  0.127011  0.724223  0.908829  0.673636\n",
              "e  0.001003  0.048492  0.860319  0.220345  0.849718  0.049495"
            ]
          },
          "metadata": {},
          "execution_count": 35
        }
      ]
    },
    {
      "cell_type": "code",
      "metadata": {
        "colab": {
          "base_uri": "https://localhost:8080/",
          "height": 204
        },
        "id": "c6YZ_Vtsf42G",
        "outputId": "c875acef-7863-4cd7-9866-fac03c18b839"
      },
      "source": [
        "df.drop('adding',axis=1)"
      ],
      "execution_count": 38,
      "outputs": [
        {
          "output_type": "execute_result",
          "data": {
            "text/html": [
              "<div>\n",
              "<style scoped>\n",
              "    .dataframe tbody tr th:only-of-type {\n",
              "        vertical-align: middle;\n",
              "    }\n",
              "\n",
              "    .dataframe tbody tr th {\n",
              "        vertical-align: top;\n",
              "    }\n",
              "\n",
              "    .dataframe thead th {\n",
              "        text-align: right;\n",
              "    }\n",
              "</style>\n",
              "<table border=\"1\" class=\"dataframe\">\n",
              "  <thead>\n",
              "    <tr style=\"text-align: right;\">\n",
              "      <th></th>\n",
              "      <th>i</th>\n",
              "      <th>j</th>\n",
              "      <th>k</th>\n",
              "      <th>l</th>\n",
              "      <th>m</th>\n",
              "    </tr>\n",
              "  </thead>\n",
              "  <tbody>\n",
              "    <tr>\n",
              "      <th>a</th>\n",
              "      <td>0.336238</td>\n",
              "      <td>0.386659</td>\n",
              "      <td>0.725836</td>\n",
              "      <td>0.510751</td>\n",
              "      <td>0.114366</td>\n",
              "    </tr>\n",
              "    <tr>\n",
              "      <th>b</th>\n",
              "      <td>0.307619</td>\n",
              "      <td>0.096132</td>\n",
              "      <td>0.466845</td>\n",
              "      <td>0.085010</td>\n",
              "      <td>0.939595</td>\n",
              "    </tr>\n",
              "    <tr>\n",
              "      <th>c</th>\n",
              "      <td>0.646807</td>\n",
              "      <td>0.403084</td>\n",
              "      <td>0.315358</td>\n",
              "      <td>0.675221</td>\n",
              "      <td>0.119020</td>\n",
              "    </tr>\n",
              "    <tr>\n",
              "      <th>d</th>\n",
              "      <td>0.074476</td>\n",
              "      <td>0.599161</td>\n",
              "      <td>0.127011</td>\n",
              "      <td>0.724223</td>\n",
              "      <td>0.908829</td>\n",
              "    </tr>\n",
              "    <tr>\n",
              "      <th>e</th>\n",
              "      <td>0.001003</td>\n",
              "      <td>0.048492</td>\n",
              "      <td>0.860319</td>\n",
              "      <td>0.220345</td>\n",
              "      <td>0.849718</td>\n",
              "    </tr>\n",
              "  </tbody>\n",
              "</table>\n",
              "</div>"
            ],
            "text/plain": [
              "          i         j         k         l         m\n",
              "a  0.336238  0.386659  0.725836  0.510751  0.114366\n",
              "b  0.307619  0.096132  0.466845  0.085010  0.939595\n",
              "c  0.646807  0.403084  0.315358  0.675221  0.119020\n",
              "d  0.074476  0.599161  0.127011  0.724223  0.908829\n",
              "e  0.001003  0.048492  0.860319  0.220345  0.849718"
            ]
          },
          "metadata": {},
          "execution_count": 38
        }
      ]
    },
    {
      "cell_type": "code",
      "metadata": {
        "colab": {
          "base_uri": "https://localhost:8080/",
          "height": 204
        },
        "id": "FLILJb_AgEkn",
        "outputId": "7428961c-e7fb-4145-bb75-3c28a1597a43"
      },
      "source": [
        "df"
      ],
      "execution_count": 39,
      "outputs": [
        {
          "output_type": "execute_result",
          "data": {
            "text/html": [
              "<div>\n",
              "<style scoped>\n",
              "    .dataframe tbody tr th:only-of-type {\n",
              "        vertical-align: middle;\n",
              "    }\n",
              "\n",
              "    .dataframe tbody tr th {\n",
              "        vertical-align: top;\n",
              "    }\n",
              "\n",
              "    .dataframe thead th {\n",
              "        text-align: right;\n",
              "    }\n",
              "</style>\n",
              "<table border=\"1\" class=\"dataframe\">\n",
              "  <thead>\n",
              "    <tr style=\"text-align: right;\">\n",
              "      <th></th>\n",
              "      <th>i</th>\n",
              "      <th>j</th>\n",
              "      <th>k</th>\n",
              "      <th>l</th>\n",
              "      <th>m</th>\n",
              "      <th>adding</th>\n",
              "    </tr>\n",
              "  </thead>\n",
              "  <tbody>\n",
              "    <tr>\n",
              "      <th>a</th>\n",
              "      <td>0.336238</td>\n",
              "      <td>0.386659</td>\n",
              "      <td>0.725836</td>\n",
              "      <td>0.510751</td>\n",
              "      <td>0.114366</td>\n",
              "      <td>0.722898</td>\n",
              "    </tr>\n",
              "    <tr>\n",
              "      <th>b</th>\n",
              "      <td>0.307619</td>\n",
              "      <td>0.096132</td>\n",
              "      <td>0.466845</td>\n",
              "      <td>0.085010</td>\n",
              "      <td>0.939595</td>\n",
              "      <td>0.403752</td>\n",
              "    </tr>\n",
              "    <tr>\n",
              "      <th>c</th>\n",
              "      <td>0.646807</td>\n",
              "      <td>0.403084</td>\n",
              "      <td>0.315358</td>\n",
              "      <td>0.675221</td>\n",
              "      <td>0.119020</td>\n",
              "      <td>1.049891</td>\n",
              "    </tr>\n",
              "    <tr>\n",
              "      <th>d</th>\n",
              "      <td>0.074476</td>\n",
              "      <td>0.599161</td>\n",
              "      <td>0.127011</td>\n",
              "      <td>0.724223</td>\n",
              "      <td>0.908829</td>\n",
              "      <td>0.673636</td>\n",
              "    </tr>\n",
              "    <tr>\n",
              "      <th>e</th>\n",
              "      <td>0.001003</td>\n",
              "      <td>0.048492</td>\n",
              "      <td>0.860319</td>\n",
              "      <td>0.220345</td>\n",
              "      <td>0.849718</td>\n",
              "      <td>0.049495</td>\n",
              "    </tr>\n",
              "  </tbody>\n",
              "</table>\n",
              "</div>"
            ],
            "text/plain": [
              "          i         j         k         l         m    adding\n",
              "a  0.336238  0.386659  0.725836  0.510751  0.114366  0.722898\n",
              "b  0.307619  0.096132  0.466845  0.085010  0.939595  0.403752\n",
              "c  0.646807  0.403084  0.315358  0.675221  0.119020  1.049891\n",
              "d  0.074476  0.599161  0.127011  0.724223  0.908829  0.673636\n",
              "e  0.001003  0.048492  0.860319  0.220345  0.849718  0.049495"
            ]
          },
          "metadata": {},
          "execution_count": 39
        }
      ]
    },
    {
      "cell_type": "code",
      "metadata": {
        "id": "3NF93e-9gGgm"
      },
      "source": [
        "df = df.drop('adding',axis=1)"
      ],
      "execution_count": 40,
      "outputs": []
    },
    {
      "cell_type": "code",
      "metadata": {
        "colab": {
          "base_uri": "https://localhost:8080/",
          "height": 204
        },
        "id": "dkj2FIklgMku",
        "outputId": "e7169dc9-099b-4499-fb59-2e49b1472349"
      },
      "source": [
        "df"
      ],
      "execution_count": 41,
      "outputs": [
        {
          "output_type": "execute_result",
          "data": {
            "text/html": [
              "<div>\n",
              "<style scoped>\n",
              "    .dataframe tbody tr th:only-of-type {\n",
              "        vertical-align: middle;\n",
              "    }\n",
              "\n",
              "    .dataframe tbody tr th {\n",
              "        vertical-align: top;\n",
              "    }\n",
              "\n",
              "    .dataframe thead th {\n",
              "        text-align: right;\n",
              "    }\n",
              "</style>\n",
              "<table border=\"1\" class=\"dataframe\">\n",
              "  <thead>\n",
              "    <tr style=\"text-align: right;\">\n",
              "      <th></th>\n",
              "      <th>i</th>\n",
              "      <th>j</th>\n",
              "      <th>k</th>\n",
              "      <th>l</th>\n",
              "      <th>m</th>\n",
              "    </tr>\n",
              "  </thead>\n",
              "  <tbody>\n",
              "    <tr>\n",
              "      <th>a</th>\n",
              "      <td>0.336238</td>\n",
              "      <td>0.386659</td>\n",
              "      <td>0.725836</td>\n",
              "      <td>0.510751</td>\n",
              "      <td>0.114366</td>\n",
              "    </tr>\n",
              "    <tr>\n",
              "      <th>b</th>\n",
              "      <td>0.307619</td>\n",
              "      <td>0.096132</td>\n",
              "      <td>0.466845</td>\n",
              "      <td>0.085010</td>\n",
              "      <td>0.939595</td>\n",
              "    </tr>\n",
              "    <tr>\n",
              "      <th>c</th>\n",
              "      <td>0.646807</td>\n",
              "      <td>0.403084</td>\n",
              "      <td>0.315358</td>\n",
              "      <td>0.675221</td>\n",
              "      <td>0.119020</td>\n",
              "    </tr>\n",
              "    <tr>\n",
              "      <th>d</th>\n",
              "      <td>0.074476</td>\n",
              "      <td>0.599161</td>\n",
              "      <td>0.127011</td>\n",
              "      <td>0.724223</td>\n",
              "      <td>0.908829</td>\n",
              "    </tr>\n",
              "    <tr>\n",
              "      <th>e</th>\n",
              "      <td>0.001003</td>\n",
              "      <td>0.048492</td>\n",
              "      <td>0.860319</td>\n",
              "      <td>0.220345</td>\n",
              "      <td>0.849718</td>\n",
              "    </tr>\n",
              "  </tbody>\n",
              "</table>\n",
              "</div>"
            ],
            "text/plain": [
              "          i         j         k         l         m\n",
              "a  0.336238  0.386659  0.725836  0.510751  0.114366\n",
              "b  0.307619  0.096132  0.466845  0.085010  0.939595\n",
              "c  0.646807  0.403084  0.315358  0.675221  0.119020\n",
              "d  0.074476  0.599161  0.127011  0.724223  0.908829\n",
              "e  0.001003  0.048492  0.860319  0.220345  0.849718"
            ]
          },
          "metadata": {},
          "execution_count": 41
        }
      ]
    },
    {
      "cell_type": "code",
      "metadata": {
        "colab": {
          "base_uri": "https://localhost:8080/"
        },
        "id": "SkVqRVpTgqSE",
        "outputId": "43725395-aaa3-4baa-851e-4e8d8d573206"
      },
      "source": [
        "df.loc['b']"
      ],
      "execution_count": 46,
      "outputs": [
        {
          "output_type": "execute_result",
          "data": {
            "text/plain": [
              "i    0.307619\n",
              "j    0.096132\n",
              "k    0.466845\n",
              "l    0.085010\n",
              "m    0.939595\n",
              "Name: b, dtype: float64"
            ]
          },
          "metadata": {},
          "execution_count": 46
        }
      ]
    },
    {
      "cell_type": "code",
      "metadata": {
        "colab": {
          "base_uri": "https://localhost:8080/"
        },
        "id": "GqJ3Q4R2ga4z",
        "outputId": "00af9d62-5e09-4aec-b650-a8c2f867047e"
      },
      "source": [
        "df.iloc[2]"
      ],
      "execution_count": 43,
      "outputs": [
        {
          "output_type": "execute_result",
          "data": {
            "text/plain": [
              "i    0.646807\n",
              "j    0.403084\n",
              "k    0.315358\n",
              "l    0.675221\n",
              "m    0.119020\n",
              "Name: c, dtype: float64"
            ]
          },
          "metadata": {},
          "execution_count": 43
        }
      ]
    },
    {
      "cell_type": "code",
      "metadata": {
        "colab": {
          "base_uri": "https://localhost:8080/",
          "height": 142
        },
        "id": "rg6U24oDg45n",
        "outputId": "817074d8-2ddb-4e7f-e8a1-a143f7beb4f2"
      },
      "source": [
        "df.loc['a c d'.split()]"
      ],
      "execution_count": 48,
      "outputs": [
        {
          "output_type": "execute_result",
          "data": {
            "text/html": [
              "<div>\n",
              "<style scoped>\n",
              "    .dataframe tbody tr th:only-of-type {\n",
              "        vertical-align: middle;\n",
              "    }\n",
              "\n",
              "    .dataframe tbody tr th {\n",
              "        vertical-align: top;\n",
              "    }\n",
              "\n",
              "    .dataframe thead th {\n",
              "        text-align: right;\n",
              "    }\n",
              "</style>\n",
              "<table border=\"1\" class=\"dataframe\">\n",
              "  <thead>\n",
              "    <tr style=\"text-align: right;\">\n",
              "      <th></th>\n",
              "      <th>i</th>\n",
              "      <th>j</th>\n",
              "      <th>k</th>\n",
              "      <th>l</th>\n",
              "      <th>m</th>\n",
              "    </tr>\n",
              "  </thead>\n",
              "  <tbody>\n",
              "    <tr>\n",
              "      <th>a</th>\n",
              "      <td>0.336238</td>\n",
              "      <td>0.386659</td>\n",
              "      <td>0.725836</td>\n",
              "      <td>0.510751</td>\n",
              "      <td>0.114366</td>\n",
              "    </tr>\n",
              "    <tr>\n",
              "      <th>c</th>\n",
              "      <td>0.646807</td>\n",
              "      <td>0.403084</td>\n",
              "      <td>0.315358</td>\n",
              "      <td>0.675221</td>\n",
              "      <td>0.119020</td>\n",
              "    </tr>\n",
              "    <tr>\n",
              "      <th>d</th>\n",
              "      <td>0.074476</td>\n",
              "      <td>0.599161</td>\n",
              "      <td>0.127011</td>\n",
              "      <td>0.724223</td>\n",
              "      <td>0.908829</td>\n",
              "    </tr>\n",
              "  </tbody>\n",
              "</table>\n",
              "</div>"
            ],
            "text/plain": [
              "          i         j         k         l         m\n",
              "a  0.336238  0.386659  0.725836  0.510751  0.114366\n",
              "c  0.646807  0.403084  0.315358  0.675221  0.119020\n",
              "d  0.074476  0.599161  0.127011  0.724223  0.908829"
            ]
          },
          "metadata": {},
          "execution_count": 48
        }
      ]
    },
    {
      "cell_type": "code",
      "metadata": {
        "colab": {
          "base_uri": "https://localhost:8080/",
          "height": 111
        },
        "id": "31055SEzhJaA",
        "outputId": "f700c563-0763-41d9-9398-4c027aa1a894"
      },
      "source": [
        "df.loc[['a','b'],['k','l']]"
      ],
      "execution_count": 49,
      "outputs": [
        {
          "output_type": "execute_result",
          "data": {
            "text/html": [
              "<div>\n",
              "<style scoped>\n",
              "    .dataframe tbody tr th:only-of-type {\n",
              "        vertical-align: middle;\n",
              "    }\n",
              "\n",
              "    .dataframe tbody tr th {\n",
              "        vertical-align: top;\n",
              "    }\n",
              "\n",
              "    .dataframe thead th {\n",
              "        text-align: right;\n",
              "    }\n",
              "</style>\n",
              "<table border=\"1\" class=\"dataframe\">\n",
              "  <thead>\n",
              "    <tr style=\"text-align: right;\">\n",
              "      <th></th>\n",
              "      <th>k</th>\n",
              "      <th>l</th>\n",
              "    </tr>\n",
              "  </thead>\n",
              "  <tbody>\n",
              "    <tr>\n",
              "      <th>a</th>\n",
              "      <td>0.725836</td>\n",
              "      <td>0.510751</td>\n",
              "    </tr>\n",
              "    <tr>\n",
              "      <th>b</th>\n",
              "      <td>0.466845</td>\n",
              "      <td>0.085010</td>\n",
              "    </tr>\n",
              "  </tbody>\n",
              "</table>\n",
              "</div>"
            ],
            "text/plain": [
              "          k         l\n",
              "a  0.725836  0.510751\n",
              "b  0.466845  0.085010"
            ]
          },
          "metadata": {},
          "execution_count": 49
        }
      ]
    },
    {
      "cell_type": "code",
      "metadata": {
        "colab": {
          "base_uri": "https://localhost:8080/",
          "height": 204
        },
        "id": "WvOhSzj3hVSR",
        "outputId": "e643fa19-49bb-414c-9c2f-d47d1ba21d61"
      },
      "source": [
        "df > 0.5"
      ],
      "execution_count": 50,
      "outputs": [
        {
          "output_type": "execute_result",
          "data": {
            "text/html": [
              "<div>\n",
              "<style scoped>\n",
              "    .dataframe tbody tr th:only-of-type {\n",
              "        vertical-align: middle;\n",
              "    }\n",
              "\n",
              "    .dataframe tbody tr th {\n",
              "        vertical-align: top;\n",
              "    }\n",
              "\n",
              "    .dataframe thead th {\n",
              "        text-align: right;\n",
              "    }\n",
              "</style>\n",
              "<table border=\"1\" class=\"dataframe\">\n",
              "  <thead>\n",
              "    <tr style=\"text-align: right;\">\n",
              "      <th></th>\n",
              "      <th>i</th>\n",
              "      <th>j</th>\n",
              "      <th>k</th>\n",
              "      <th>l</th>\n",
              "      <th>m</th>\n",
              "    </tr>\n",
              "  </thead>\n",
              "  <tbody>\n",
              "    <tr>\n",
              "      <th>a</th>\n",
              "      <td>False</td>\n",
              "      <td>False</td>\n",
              "      <td>True</td>\n",
              "      <td>True</td>\n",
              "      <td>False</td>\n",
              "    </tr>\n",
              "    <tr>\n",
              "      <th>b</th>\n",
              "      <td>False</td>\n",
              "      <td>False</td>\n",
              "      <td>False</td>\n",
              "      <td>False</td>\n",
              "      <td>True</td>\n",
              "    </tr>\n",
              "    <tr>\n",
              "      <th>c</th>\n",
              "      <td>True</td>\n",
              "      <td>False</td>\n",
              "      <td>False</td>\n",
              "      <td>True</td>\n",
              "      <td>False</td>\n",
              "    </tr>\n",
              "    <tr>\n",
              "      <th>d</th>\n",
              "      <td>False</td>\n",
              "      <td>True</td>\n",
              "      <td>False</td>\n",
              "      <td>True</td>\n",
              "      <td>True</td>\n",
              "    </tr>\n",
              "    <tr>\n",
              "      <th>e</th>\n",
              "      <td>False</td>\n",
              "      <td>False</td>\n",
              "      <td>True</td>\n",
              "      <td>False</td>\n",
              "      <td>True</td>\n",
              "    </tr>\n",
              "  </tbody>\n",
              "</table>\n",
              "</div>"
            ],
            "text/plain": [
              "       i      j      k      l      m\n",
              "a  False  False   True   True  False\n",
              "b  False  False  False  False   True\n",
              "c   True  False  False   True  False\n",
              "d  False   True  False   True   True\n",
              "e  False  False   True  False   True"
            ]
          },
          "metadata": {},
          "execution_count": 50
        }
      ]
    },
    {
      "cell_type": "code",
      "metadata": {
        "colab": {
          "base_uri": "https://localhost:8080/",
          "height": 204
        },
        "id": "PCYUShy7hYXp",
        "outputId": "33e50112-64ef-4200-beb4-d318efb94e61"
      },
      "source": [
        "df[df>0.5]"
      ],
      "execution_count": 51,
      "outputs": [
        {
          "output_type": "execute_result",
          "data": {
            "text/html": [
              "<div>\n",
              "<style scoped>\n",
              "    .dataframe tbody tr th:only-of-type {\n",
              "        vertical-align: middle;\n",
              "    }\n",
              "\n",
              "    .dataframe tbody tr th {\n",
              "        vertical-align: top;\n",
              "    }\n",
              "\n",
              "    .dataframe thead th {\n",
              "        text-align: right;\n",
              "    }\n",
              "</style>\n",
              "<table border=\"1\" class=\"dataframe\">\n",
              "  <thead>\n",
              "    <tr style=\"text-align: right;\">\n",
              "      <th></th>\n",
              "      <th>i</th>\n",
              "      <th>j</th>\n",
              "      <th>k</th>\n",
              "      <th>l</th>\n",
              "      <th>m</th>\n",
              "    </tr>\n",
              "  </thead>\n",
              "  <tbody>\n",
              "    <tr>\n",
              "      <th>a</th>\n",
              "      <td>NaN</td>\n",
              "      <td>NaN</td>\n",
              "      <td>0.725836</td>\n",
              "      <td>0.510751</td>\n",
              "      <td>NaN</td>\n",
              "    </tr>\n",
              "    <tr>\n",
              "      <th>b</th>\n",
              "      <td>NaN</td>\n",
              "      <td>NaN</td>\n",
              "      <td>NaN</td>\n",
              "      <td>NaN</td>\n",
              "      <td>0.939595</td>\n",
              "    </tr>\n",
              "    <tr>\n",
              "      <th>c</th>\n",
              "      <td>0.646807</td>\n",
              "      <td>NaN</td>\n",
              "      <td>NaN</td>\n",
              "      <td>0.675221</td>\n",
              "      <td>NaN</td>\n",
              "    </tr>\n",
              "    <tr>\n",
              "      <th>d</th>\n",
              "      <td>NaN</td>\n",
              "      <td>0.599161</td>\n",
              "      <td>NaN</td>\n",
              "      <td>0.724223</td>\n",
              "      <td>0.908829</td>\n",
              "    </tr>\n",
              "    <tr>\n",
              "      <th>e</th>\n",
              "      <td>NaN</td>\n",
              "      <td>NaN</td>\n",
              "      <td>0.860319</td>\n",
              "      <td>NaN</td>\n",
              "      <td>0.849718</td>\n",
              "    </tr>\n",
              "  </tbody>\n",
              "</table>\n",
              "</div>"
            ],
            "text/plain": [
              "          i         j         k         l         m\n",
              "a       NaN       NaN  0.725836  0.510751       NaN\n",
              "b       NaN       NaN       NaN       NaN  0.939595\n",
              "c  0.646807       NaN       NaN  0.675221       NaN\n",
              "d       NaN  0.599161       NaN  0.724223  0.908829\n",
              "e       NaN       NaN  0.860319       NaN  0.849718"
            ]
          },
          "metadata": {},
          "execution_count": 51
        }
      ]
    },
    {
      "cell_type": "code",
      "metadata": {
        "colab": {
          "base_uri": "https://localhost:8080/"
        },
        "id": "dq9assg2hmo3",
        "outputId": "6e3759da-26ef-49e7-f1f2-edbed2151e91"
      },
      "source": [
        "df['i']>0.5"
      ],
      "execution_count": 52,
      "outputs": [
        {
          "output_type": "execute_result",
          "data": {
            "text/plain": [
              "a    False\n",
              "b    False\n",
              "c     True\n",
              "d    False\n",
              "e    False\n",
              "Name: i, dtype: bool"
            ]
          },
          "metadata": {},
          "execution_count": 52
        }
      ]
    },
    {
      "cell_type": "code",
      "metadata": {
        "colab": {
          "base_uri": "https://localhost:8080/",
          "height": 80
        },
        "id": "Jrzxk3l_hqsO",
        "outputId": "970f02bd-e5d9-4e61-fdce-39f849e8e8b2"
      },
      "source": [
        "df[(df['i']>0.5) & (df['j']>0.3)]"
      ],
      "execution_count": 55,
      "outputs": [
        {
          "output_type": "execute_result",
          "data": {
            "text/html": [
              "<div>\n",
              "<style scoped>\n",
              "    .dataframe tbody tr th:only-of-type {\n",
              "        vertical-align: middle;\n",
              "    }\n",
              "\n",
              "    .dataframe tbody tr th {\n",
              "        vertical-align: top;\n",
              "    }\n",
              "\n",
              "    .dataframe thead th {\n",
              "        text-align: right;\n",
              "    }\n",
              "</style>\n",
              "<table border=\"1\" class=\"dataframe\">\n",
              "  <thead>\n",
              "    <tr style=\"text-align: right;\">\n",
              "      <th></th>\n",
              "      <th>i</th>\n",
              "      <th>j</th>\n",
              "      <th>k</th>\n",
              "      <th>l</th>\n",
              "      <th>m</th>\n",
              "    </tr>\n",
              "  </thead>\n",
              "  <tbody>\n",
              "    <tr>\n",
              "      <th>c</th>\n",
              "      <td>0.646807</td>\n",
              "      <td>0.403084</td>\n",
              "      <td>0.315358</td>\n",
              "      <td>0.675221</td>\n",
              "      <td>0.11902</td>\n",
              "    </tr>\n",
              "  </tbody>\n",
              "</table>\n",
              "</div>"
            ],
            "text/plain": [
              "          i         j         k         l        m\n",
              "c  0.646807  0.403084  0.315358  0.675221  0.11902"
            ]
          },
          "metadata": {},
          "execution_count": 55
        }
      ]
    },
    {
      "cell_type": "code",
      "metadata": {
        "colab": {
          "base_uri": "https://localhost:8080/"
        },
        "id": "9C_Iji8UiMsO",
        "outputId": "42d9168c-5ddc-4758-8231-497a77081852"
      },
      "source": [
        "df[(df['i']>0.5) & (df['j']>0.3)]['m']  #get value of m"
      ],
      "execution_count": 56,
      "outputs": [
        {
          "output_type": "execute_result",
          "data": {
            "text/plain": [
              "c    0.11902\n",
              "Name: m, dtype: float64"
            ]
          },
          "metadata": {},
          "execution_count": 56
        }
      ]
    },
    {
      "cell_type": "markdown",
      "metadata": {
        "id": "QueF5uADjJHo"
      },
      "source": [
        "## Multi-Index Index Hierarchy"
      ]
    },
    {
      "cell_type": "code",
      "metadata": {
        "colab": {
          "base_uri": "https://localhost:8080/"
        },
        "id": "9EudhP2gjQ_k",
        "outputId": "b40eb2df-1187-4fd5-f302-7223ebc7fab7"
      },
      "source": [
        "outside = \"G1 G1 G1 G2 G2 G2\".split()\n",
        "inside = \"1 2 3 1 2 3\".split()\n",
        "hier_index = list(zip(outside,inside))\n",
        "hier_index"
      ],
      "execution_count": 63,
      "outputs": [
        {
          "output_type": "execute_result",
          "data": {
            "text/plain": [
              "[('G1', '1'), ('G1', '2'), ('G1', '3'), ('G2', '1'), ('G2', '2'), ('G2', '3')]"
            ]
          },
          "metadata": {},
          "execution_count": 63
        }
      ]
    },
    {
      "cell_type": "code",
      "metadata": {
        "colab": {
          "base_uri": "https://localhost:8080/"
        },
        "id": "2jCUHGaXj4hc",
        "outputId": "2b8d9342-e283-4829-94a0-7f07381bc736"
      },
      "source": [
        "hier_index = pd.MultiIndex.from_tuples(hier_index)\n",
        "hier_index"
      ],
      "execution_count": 64,
      "outputs": [
        {
          "output_type": "execute_result",
          "data": {
            "text/plain": [
              "MultiIndex([('G1', '1'),\n",
              "            ('G1', '2'),\n",
              "            ('G1', '3'),\n",
              "            ('G2', '1'),\n",
              "            ('G2', '2'),\n",
              "            ('G2', '3')],\n",
              "           )"
            ]
          },
          "metadata": {},
          "execution_count": 64
        }
      ]
    },
    {
      "cell_type": "code",
      "metadata": {
        "colab": {
          "base_uri": "https://localhost:8080/",
          "height": 235
        },
        "id": "irmh6Nf5kpvs",
        "outputId": "6375aa86-cde2-4864-ca05-f4d8658406bb"
      },
      "source": [
        "dff = pd.DataFrame(np.random.rand(6,2),index=hier_index,columns='A B'.split(\" \"))\n",
        "dff"
      ],
      "execution_count": 68,
      "outputs": [
        {
          "output_type": "execute_result",
          "data": {
            "text/html": [
              "<div>\n",
              "<style scoped>\n",
              "    .dataframe tbody tr th:only-of-type {\n",
              "        vertical-align: middle;\n",
              "    }\n",
              "\n",
              "    .dataframe tbody tr th {\n",
              "        vertical-align: top;\n",
              "    }\n",
              "\n",
              "    .dataframe thead th {\n",
              "        text-align: right;\n",
              "    }\n",
              "</style>\n",
              "<table border=\"1\" class=\"dataframe\">\n",
              "  <thead>\n",
              "    <tr style=\"text-align: right;\">\n",
              "      <th></th>\n",
              "      <th></th>\n",
              "      <th>A</th>\n",
              "      <th>B</th>\n",
              "    </tr>\n",
              "  </thead>\n",
              "  <tbody>\n",
              "    <tr>\n",
              "      <th rowspan=\"3\" valign=\"top\">G1</th>\n",
              "      <th>1</th>\n",
              "      <td>0.818929</td>\n",
              "      <td>0.068373</td>\n",
              "    </tr>\n",
              "    <tr>\n",
              "      <th>2</th>\n",
              "      <td>0.560075</td>\n",
              "      <td>0.356648</td>\n",
              "    </tr>\n",
              "    <tr>\n",
              "      <th>3</th>\n",
              "      <td>0.216568</td>\n",
              "      <td>0.731985</td>\n",
              "    </tr>\n",
              "    <tr>\n",
              "      <th rowspan=\"3\" valign=\"top\">G2</th>\n",
              "      <th>1</th>\n",
              "      <td>0.562202</td>\n",
              "      <td>0.057925</td>\n",
              "    </tr>\n",
              "    <tr>\n",
              "      <th>2</th>\n",
              "      <td>0.517854</td>\n",
              "      <td>0.210348</td>\n",
              "    </tr>\n",
              "    <tr>\n",
              "      <th>3</th>\n",
              "      <td>0.625486</td>\n",
              "      <td>0.005553</td>\n",
              "    </tr>\n",
              "  </tbody>\n",
              "</table>\n",
              "</div>"
            ],
            "text/plain": [
              "             A         B\n",
              "G1 1  0.818929  0.068373\n",
              "   2  0.560075  0.356648\n",
              "   3  0.216568  0.731985\n",
              "G2 1  0.562202  0.057925\n",
              "   2  0.517854  0.210348\n",
              "   3  0.625486  0.005553"
            ]
          },
          "metadata": {},
          "execution_count": 68
        }
      ]
    },
    {
      "cell_type": "code",
      "metadata": {
        "colab": {
          "base_uri": "https://localhost:8080/",
          "height": 142
        },
        "id": "k-AXkiHVlkw-",
        "outputId": "fce78a65-bd0d-465c-c7f6-7e5d38ed6019"
      },
      "source": [
        "dff.loc['G1']"
      ],
      "execution_count": 70,
      "outputs": [
        {
          "output_type": "execute_result",
          "data": {
            "text/html": [
              "<div>\n",
              "<style scoped>\n",
              "    .dataframe tbody tr th:only-of-type {\n",
              "        vertical-align: middle;\n",
              "    }\n",
              "\n",
              "    .dataframe tbody tr th {\n",
              "        vertical-align: top;\n",
              "    }\n",
              "\n",
              "    .dataframe thead th {\n",
              "        text-align: right;\n",
              "    }\n",
              "</style>\n",
              "<table border=\"1\" class=\"dataframe\">\n",
              "  <thead>\n",
              "    <tr style=\"text-align: right;\">\n",
              "      <th></th>\n",
              "      <th>A</th>\n",
              "      <th>B</th>\n",
              "    </tr>\n",
              "  </thead>\n",
              "  <tbody>\n",
              "    <tr>\n",
              "      <th>1</th>\n",
              "      <td>0.818929</td>\n",
              "      <td>0.068373</td>\n",
              "    </tr>\n",
              "    <tr>\n",
              "      <th>2</th>\n",
              "      <td>0.560075</td>\n",
              "      <td>0.356648</td>\n",
              "    </tr>\n",
              "    <tr>\n",
              "      <th>3</th>\n",
              "      <td>0.216568</td>\n",
              "      <td>0.731985</td>\n",
              "    </tr>\n",
              "  </tbody>\n",
              "</table>\n",
              "</div>"
            ],
            "text/plain": [
              "          A         B\n",
              "1  0.818929  0.068373\n",
              "2  0.560075  0.356648\n",
              "3  0.216568  0.731985"
            ]
          },
          "metadata": {},
          "execution_count": 70
        }
      ]
    },
    {
      "cell_type": "code",
      "metadata": {
        "colab": {
          "base_uri": "https://localhost:8080/"
        },
        "id": "-HVTLLNxlsKw",
        "outputId": "367f781c-e803-4c8d-a00f-29d7efc892cb"
      },
      "source": [
        "dff.loc['G1'].loc['2']"
      ],
      "execution_count": 73,
      "outputs": [
        {
          "output_type": "execute_result",
          "data": {
            "text/plain": [
              "A    0.560075\n",
              "B    0.356648\n",
              "Name: 2, dtype: float64"
            ]
          },
          "metadata": {},
          "execution_count": 73
        }
      ]
    },
    {
      "cell_type": "code",
      "metadata": {
        "colab": {
          "base_uri": "https://localhost:8080/"
        },
        "id": "D7MPsSk7l3Fp",
        "outputId": "af2d977a-1686-40b4-c4cd-fb020b289954"
      },
      "source": [
        "dff.loc['G1'].loc['2','A']"
      ],
      "execution_count": 74,
      "outputs": [
        {
          "output_type": "execute_result",
          "data": {
            "text/plain": [
              "0.5600753749537593"
            ]
          },
          "metadata": {},
          "execution_count": 74
        }
      ]
    },
    {
      "cell_type": "code",
      "metadata": {
        "colab": {
          "base_uri": "https://localhost:8080/"
        },
        "id": "QgBvgYaUmIO3",
        "outputId": "111a2a4c-cda8-4560-91f2-815514e606c7"
      },
      "source": [
        "dff.xs(['G2','1'])"
      ],
      "execution_count": 79,
      "outputs": [
        {
          "output_type": "execute_result",
          "data": {
            "text/plain": [
              "A    0.562202\n",
              "B    0.057925\n",
              "Name: (G2, 1), dtype: float64"
            ]
          },
          "metadata": {},
          "execution_count": 79
        }
      ]
    },
    {
      "cell_type": "code",
      "metadata": {
        "colab": {
          "base_uri": "https://localhost:8080/",
          "height": 111
        },
        "id": "PqqFHV-jmufY",
        "outputId": "8474caaa-2ac6-49c9-adcb-d48bdb4a3ebe"
      },
      "source": [
        "#level wise referencing\n",
        "dff.xs('1',level=1)"
      ],
      "execution_count": 85,
      "outputs": [
        {
          "output_type": "execute_result",
          "data": {
            "text/html": [
              "<div>\n",
              "<style scoped>\n",
              "    .dataframe tbody tr th:only-of-type {\n",
              "        vertical-align: middle;\n",
              "    }\n",
              "\n",
              "    .dataframe tbody tr th {\n",
              "        vertical-align: top;\n",
              "    }\n",
              "\n",
              "    .dataframe thead th {\n",
              "        text-align: right;\n",
              "    }\n",
              "</style>\n",
              "<table border=\"1\" class=\"dataframe\">\n",
              "  <thead>\n",
              "    <tr style=\"text-align: right;\">\n",
              "      <th></th>\n",
              "      <th>A</th>\n",
              "      <th>B</th>\n",
              "    </tr>\n",
              "  </thead>\n",
              "  <tbody>\n",
              "    <tr>\n",
              "      <th>G1</th>\n",
              "      <td>0.818929</td>\n",
              "      <td>0.068373</td>\n",
              "    </tr>\n",
              "    <tr>\n",
              "      <th>G2</th>\n",
              "      <td>0.562202</td>\n",
              "      <td>0.057925</td>\n",
              "    </tr>\n",
              "  </tbody>\n",
              "</table>\n",
              "</div>"
            ],
            "text/plain": [
              "           A         B\n",
              "G1  0.818929  0.068373\n",
              "G2  0.562202  0.057925"
            ]
          },
          "metadata": {},
          "execution_count": 85
        }
      ]
    }
  ]
}